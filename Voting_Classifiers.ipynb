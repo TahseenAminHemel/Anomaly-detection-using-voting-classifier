{
  "nbformat": 4,
  "nbformat_minor": 0,
  "metadata": {
    "colab": {
      "name": "ML Classifiers.ipynb",
      "provenance": [],
      "collapsed_sections": []
    },
    "kernelspec": {
      "name": "python3",
      "display_name": "Python 3"
    }
  },
  "cells": [
    {
      "cell_type": "code",
      "metadata": {
        "id": "y9f0nj-fUHg3",
        "colab_type": "code",
        "colab": {
          "base_uri": "https://localhost:8080/",
          "height": 51
        },
        "outputId": "c623cf44-600c-40b5-e4c0-c4cb32250891"
      },
      "source": [
        "import pandas as pd\n",
        "import numpy as np\n",
        "import matplotlib.pyplot as plt\n",
        "import seaborn as sns"
      ],
      "execution_count": null,
      "outputs": [
        {
          "output_type": "stream",
          "text": [
            "/usr/local/lib/python3.6/dist-packages/statsmodels/tools/_testing.py:19: FutureWarning: pandas.util.testing is deprecated. Use the functions in the public API at pandas.testing instead.\n",
            "  import pandas.util.testing as tm\n"
          ],
          "name": "stderr"
        }
      ]
    },
    {
      "cell_type": "code",
      "metadata": {
        "id": "GuD-PDAyUehM",
        "colab_type": "code",
        "colab": {
          "base_uri": "https://localhost:8080/",
          "height": 122
        },
        "outputId": "7f469562-7e7e-4b79-b8d8-68d64f08975b"
      },
      "source": [
        "from google.colab import drive\n",
        "drive.mount('/content/drive/')"
      ],
      "execution_count": null,
      "outputs": [
        {
          "output_type": "stream",
          "text": [
            "Go to this URL in a browser: https://accounts.google.com/o/oauth2/auth?client_id=947318989803-6bn6qk8qdgf4n4g3pfee6491hc0brc4i.apps.googleusercontent.com&redirect_uri=urn%3aietf%3awg%3aoauth%3a2.0%3aoob&response_type=code&scope=email%20https%3a%2f%2fwww.googleapis.com%2fauth%2fdocs.test%20https%3a%2f%2fwww.googleapis.com%2fauth%2fdrive%20https%3a%2f%2fwww.googleapis.com%2fauth%2fdrive.photos.readonly%20https%3a%2f%2fwww.googleapis.com%2fauth%2fpeopleapi.readonly\n",
            "\n",
            "Enter your authorization code:\n",
            "··········\n",
            "Mounted at /content/drive/\n"
          ],
          "name": "stdout"
        }
      ]
    },
    {
      "cell_type": "code",
      "metadata": {
        "id": "LjkSsJ7mUe_s",
        "colab_type": "code",
        "colab": {}
      },
      "source": [
        "data = pd.read_csv('/content/drive/My Drive/Colab Notebooks/MRP/creditcard.csv')"
      ],
      "execution_count": null,
      "outputs": []
    },
    {
      "cell_type": "code",
      "metadata": {
        "id": "lvg2ztVRBrR7",
        "colab_type": "code",
        "colab": {}
      },
      "source": [
        "from sklearn.model_selection import train_test_split\n",
        "X = data.drop('Class',axis=1).values\n",
        "y = data['Class'].values\n",
        "X_train, X_test, y_train, y_test = train_test_split(X, y, test_size=0.20, random_state=101)"
      ],
      "execution_count": null,
      "outputs": []
    },
    {
      "cell_type": "code",
      "metadata": {
        "id": "AYK6IcHRC6HX",
        "colab_type": "code",
        "colab": {}
      },
      "source": [
        "from sklearn.preprocessing import MinMaxScaler\n",
        "scaler = MinMaxScaler()\n",
        "X_train = scaler.fit_transform(X_train)\n",
        "X_test = scaler.transform(X_test)"
      ],
      "execution_count": null,
      "outputs": []
    },
    {
      "cell_type": "code",
      "metadata": {
        "id": "vxiiP--GDM1F",
        "colab_type": "code",
        "colab": {
          "base_uri": "https://localhost:8080/",
          "height": 34
        },
        "outputId": "1f7dbc1e-c14f-44a8-a673-abbaa667b137"
      },
      "source": [
        "from sklearn.linear_model import LogisticRegression\n",
        "from sklearn.tree import DecisionTreeClassifier\n",
        "from sklearn.naive_bayes import GaussianNB\n",
        "from sklearn.neural_network import MLPClassifier\n",
        "from sklearn.svm import SVC\n",
        "from sklearn.model_selection import cross_val_score\n",
        "from sklearn.ensemble import VotingClassifier\n",
        "\n",
        "clf1 = LogisticRegression(random_state=1)\n",
        "clf2 = DecisionTreeClassifier()\n",
        "clf3 = GaussianNB()\n",
        "clf4 = MLPClassifier()\n",
        "clf5 = SVC(kernel='linear', C=1.0, random_state=1)\n",
        "\n",
        "clf1.fit(X_train, y_train)\n",
        "clf2.fit(X_train, y_train)\n",
        "clf3.fit(X_train, y_train)\n",
        "clf4.fit(X_train, y_train)\n",
        "clf5.fit(X_train, y_train)\n",
        "\n",
        "eclf = VotingClassifier(\n",
        "       estimators=[('lr', clf1), ('dt', clf2), ('gnb', clf3), ('mlp', clf4), ('svc', clf5)], \n",
        "       voting='hard')\n",
        "\n",
        "scores = cross_val_score(eclf, X_test, y_test, scoring='accuracy', cv = 10)\n",
        "\n",
        "print(\"Accuracy: %0.2f\" % (scores.mean()))"
      ],
      "execution_count": null,
      "outputs": [
        {
          "output_type": "stream",
          "text": [
            "Accuracy: 1.00\n"
          ],
          "name": "stdout"
        }
      ]
    },
    {
      "cell_type": "code",
      "metadata": {
        "id": "mV6CYonuKLMX",
        "colab_type": "code",
        "colab": {
          "base_uri": "https://localhost:8080/",
          "height": 170
        },
        "outputId": "a7505654-958d-4729-a930-8870e62c8b22"
      },
      "source": [
        "from sklearn.metrics import classification_report, confusion_matrix\n",
        "eclf.fit(X_train, y_train)\n",
        "predictions = eclf.predict(X_test)\n",
        "print(classification_report(y_test, predictions))"
      ],
      "execution_count": null,
      "outputs": [
        {
          "output_type": "stream",
          "text": [
            "              precision    recall  f1-score   support\n",
            "\n",
            "           0       1.00      1.00      1.00     56859\n",
            "           1       0.91      0.82      0.86       103\n",
            "\n",
            "    accuracy                           1.00     56962\n",
            "   macro avg       0.96      0.91      0.93     56962\n",
            "weighted avg       1.00      1.00      1.00     56962\n",
            "\n"
          ],
          "name": "stdout"
        }
      ]
    },
    {
      "cell_type": "code",
      "metadata": {
        "id": "u06xhvSBMq3H",
        "colab_type": "code",
        "colab": {
          "base_uri": "https://localhost:8080/",
          "height": 51
        },
        "outputId": "698d6a12-d90f-4e09-c7f3-bb9be8802ae8"
      },
      "source": [
        "confusion_matrix(y_test,predictions)"
      ],
      "execution_count": null,
      "outputs": [
        {
          "output_type": "execute_result",
          "data": {
            "text/plain": [
              "array([[56848,    11],\n",
              "       [   18,    85]])"
            ]
          },
          "metadata": {
            "tags": []
          },
          "execution_count": 12
        }
      ]
    },
    {
      "cell_type": "code",
      "metadata": {
        "id": "SvdRcBDxsOjH",
        "colab_type": "code",
        "colab": {
          "base_uri": "https://localhost:8080/",
          "height": 34
        },
        "outputId": "39218fff-3dee-4387-f060-0c0a330390a3"
      },
      "source": [
        "from sklearn import metrics\n",
        "\n",
        "score = np.sqrt(metrics.mean_squared_error(predictions, y_test))\n",
        "print(f\"RMSE: {score}\".format(score))"
      ],
      "execution_count": null,
      "outputs": [
        {
          "output_type": "stream",
          "text": [
            "RMSE: 0.021771545895199088\n"
          ],
          "name": "stdout"
        }
      ]
    }
  ]
}