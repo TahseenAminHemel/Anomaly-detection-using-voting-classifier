{
  "nbformat": 4,
  "nbformat_minor": 0,
  "metadata": {
    "colab": {
      "name": "ML Classifiers.ipynb",
      "provenance": [],
      "collapsed_sections": []
    },
    "kernelspec": {
      "name": "python3",
      "display_name": "Python 3"
    }
  },
  "cells": [
    {
      "cell_type": "code",
      "metadata": {
        "id": "y9f0nj-fUHg3",
        "colab_type": "code",
        "colab": {
          "base_uri": "https://localhost:8080/",
          "height": 51
        },
        "outputId": "c574d9f0-1be1-4332-de2e-d2c66f73293f"
      },
      "source": [
        "# Importing the necessary libraries\n",
        "\n",
        "import pandas as pd\n",
        "import numpy as np\n",
        "import matplotlib.pyplot as plt\n",
        "import seaborn as sns"
      ],
      "execution_count": null,
      "outputs": [
        {
          "output_type": "stream",
          "text": [
            "/usr/local/lib/python3.6/dist-packages/statsmodels/tools/_testing.py:19: FutureWarning: pandas.util.testing is deprecated. Use the functions in the public API at pandas.testing instead.\n",
            "  import pandas.util.testing as tm\n"
          ],
          "name": "stderr"
        }
      ]
    },
    {
      "cell_type": "code",
      "metadata": {
        "id": "GuD-PDAyUehM",
        "colab_type": "code",
        "colab": {
          "base_uri": "https://localhost:8080/",
          "height": 122
        },
        "outputId": "19c2f43a-7880-4659-a54d-07d4b98f6d81"
      },
      "source": [
        "# Mounting Google drive to read the file from drive\n",
        "\n",
        "from google.colab import drive\n",
        "drive.mount('/content/drive/')"
      ],
      "execution_count": null,
      "outputs": [
        {
          "output_type": "stream",
          "text": [
            "Go to this URL in a browser: https://accounts.google.com/o/oauth2/auth?client_id=947318989803-6bn6qk8qdgf4n4g3pfee6491hc0brc4i.apps.googleusercontent.com&redirect_uri=urn%3aietf%3awg%3aoauth%3a2.0%3aoob&response_type=code&scope=email%20https%3a%2f%2fwww.googleapis.com%2fauth%2fdocs.test%20https%3a%2f%2fwww.googleapis.com%2fauth%2fdrive%20https%3a%2f%2fwww.googleapis.com%2fauth%2fdrive.photos.readonly%20https%3a%2f%2fwww.googleapis.com%2fauth%2fpeopleapi.readonly\n",
            "\n",
            "Enter your authorization code:\n",
            "··········\n",
            "Mounted at /content/drive/\n"
          ],
          "name": "stdout"
        }
      ]
    },
    {
      "cell_type": "code",
      "metadata": {
        "id": "LjkSsJ7mUe_s",
        "colab_type": "code",
        "colab": {}
      },
      "source": [
        "# Loading the data in Pandas dataframe\n",
        "\n",
        "data = pd.read_csv('/content/drive/My Drive/Colab Notebooks/MRP/creditcard.csv')"
      ],
      "execution_count": null,
      "outputs": []
    },
    {
      "cell_type": "code",
      "metadata": {
        "id": "lvg2ztVRBrR7",
        "colab_type": "code",
        "colab": {}
      },
      "source": [
        "# Splitting the data in test and train set\n",
        "\n",
        "from sklearn.model_selection import train_test_split\n",
        "X = data.drop('Class',axis=1).values\n",
        "y = data['Class'].values\n",
        "X_train, X_test, y_train, y_test = train_test_split(X, y, test_size=0.20, random_state=101)"
      ],
      "execution_count": null,
      "outputs": []
    },
    {
      "cell_type": "code",
      "metadata": {
        "id": "AYK6IcHRC6HX",
        "colab_type": "code",
        "colab": {}
      },
      "source": [
        "# Normalizing the data\n",
        "\n",
        "from sklearn.preprocessing import MinMaxScaler\n",
        "scaler = MinMaxScaler()\n",
        "X_train = scaler.fit_transform(X_train)\n",
        "X_test = scaler.transform(X_test)"
      ],
      "execution_count": null,
      "outputs": []
    },
    {
      "cell_type": "code",
      "metadata": {
        "id": "vxiiP--GDM1F",
        "colab_type": "code",
        "colab": {
          "base_uri": "https://localhost:8080/",
          "height": 34
        },
        "outputId": "eec1f425-f94c-4f6d-fb02-95a345e7da51"
      },
      "source": [
        "# Implementing 5 different classifiers and a voting classifier; Training them with the data\n",
        "\n",
        "from sklearn.linear_model import LogisticRegression\n",
        "from sklearn.tree import DecisionTreeClassifier\n",
        "from sklearn.naive_bayes import GaussianNB\n",
        "from sklearn.neural_network import MLPClassifier\n",
        "from sklearn.svm import SVC\n",
        "from sklearn.model_selection import cross_val_score\n",
        "from sklearn.ensemble import VotingClassifier\n",
        "\n",
        "clf1 = LogisticRegression(random_state=1)\n",
        "clf2 = DecisionTreeClassifier()\n",
        "clf3 = GaussianNB()\n",
        "clf4 = MLPClassifier()\n",
        "clf5 = SVC(kernel='linear', C=1.0, random_state=1)\n",
        "\n",
        "clf1.fit(X_train, y_train)\n",
        "clf2.fit(X_train, y_train)\n",
        "clf3.fit(X_train, y_train)\n",
        "clf4.fit(X_train, y_train)\n",
        "clf5.fit(X_train, y_train)\n",
        "\n",
        "eclf = VotingClassifier(\n",
        "       estimators=[('lr', clf1), ('dt', clf2), ('gnb', clf3), ('mlp', clf4), ('svc', clf5)], \n",
        "       voting='hard')\n",
        "\n",
        "scores = cross_val_score(eclf, X_test, y_test, scoring='accuracy', cv = 10)\n",
        "\n",
        "print(\"Accuracy: %0.2f\" % (scores.mean()))"
      ],
      "execution_count": null,
      "outputs": [
        {
          "output_type": "stream",
          "text": [
            "Accuracy: 1.00\n"
          ],
          "name": "stdout"
        }
      ]
    },
    {
      "cell_type": "code",
      "metadata": {
        "id": "mV6CYonuKLMX",
        "colab_type": "code",
        "colab": {
          "base_uri": "https://localhost:8080/",
          "height": 170
        },
        "outputId": "218fee49-3ac6-418f-833e-86ff29a3f7ad"
      },
      "source": [
        "# Classification report of the voting classifier\n",
        "\n",
        "from sklearn.metrics import classification_report, confusion_matrix\n",
        "eclf.fit(X_train, y_train)\n",
        "predictions = eclf.predict(X_test)\n",
        "print(classification_report(y_test, predictions))"
      ],
      "execution_count": null,
      "outputs": [
        {
          "output_type": "stream",
          "text": [
            "              precision    recall  f1-score   support\n",
            "\n",
            "           0       1.00      1.00      1.00     56859\n",
            "           1       0.89      0.82      0.85       103\n",
            "\n",
            "    accuracy                           1.00     56962\n",
            "   macro avg       0.95      0.91      0.93     56962\n",
            "weighted avg       1.00      1.00      1.00     56962\n",
            "\n"
          ],
          "name": "stdout"
        }
      ]
    },
    {
      "cell_type": "code",
      "metadata": {
        "id": "u06xhvSBMq3H",
        "colab_type": "code",
        "colab": {
          "base_uri": "https://localhost:8080/",
          "height": 51
        },
        "outputId": "3154cc83-f2e7-4d5a-c7f4-9415ce6845da"
      },
      "source": [
        "# Confusion matrix for the voting classifier performance\n",
        "\n",
        "confusion_matrix(y_test,predictions)"
      ],
      "execution_count": null,
      "outputs": [
        {
          "output_type": "execute_result",
          "data": {
            "text/plain": [
              "array([[56849,    10],\n",
              "       [   19,    84]])"
            ]
          },
          "metadata": {
            "tags": []
          },
          "execution_count": 8
        }
      ]
    },
    {
      "cell_type": "code",
      "metadata": {
        "id": "rTXPEYA1Qs7G",
        "colab_type": "code",
        "colab": {
          "base_uri": "https://localhost:8080/",
          "height": 51
        },
        "outputId": "cd6435f7-5a88-4737-ec13-0bf409a58932"
      },
      "source": [
        "# RMSE for training data and test data\n",
        "\n",
        "from sklearn import metrics\n",
        "\n",
        "pred = eclf.predict(X_train)\n",
        "score = np.sqrt(metrics.mean_squared_error(pred, y_train))\n",
        "print(f\"legitimate Score (RMSE): {score}\")\n",
        "\n",
        "pred = eclf.predict(X_test)\n",
        "score = np.sqrt(metrics.mean_squared_error(pred, y_test))\n",
        "print(f\"anomaly Score (RMSE): {score}\")"
      ],
      "execution_count": null,
      "outputs": [
        {
          "output_type": "stream",
          "text": [
            "legitimate Score (RMSE): 0.023978162360441167\n",
            "anomaly Score (RMSE): 0.02256349568180464\n"
          ],
          "name": "stdout"
        }
      ]
    }
  ]
}